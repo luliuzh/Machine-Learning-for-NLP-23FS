{
 "cells": [
  {
   "cell_type": "markdown",
   "metadata": {
    "id": "rgCiYhBM7MHx"
   },
   "source": [
    "# Emotion Regression: How angry are you?"
   ]
  },
  {
   "cell_type": "markdown",
   "metadata": {
    "id": "rgCiYhBM7MHx"
   },
   "source": [
    "## Load data and packages"
   ]
  },
  {
   "cell_type": "code",
   "execution_count": 1,
   "metadata": {
    "colab": {
     "base_uri": "https://localhost:8080/"
    },
    "id": "ELBc1ntbt5e8",
    "outputId": "444f008d-fadb-494a-ab02-51791aeba6dc"
   },
   "outputs": [
    {
     "name": "stdout",
     "output_type": "stream",
     "text": [
      "CUDA available is 'True' --> device=cuda\n"
     ]
    }
   ],
   "source": [
    "# do the imports and downloads for nltk\n",
    "import simpletransformers\n",
    "from simpletransformers.classification import ClassificationModel, ClassificationArgs\n",
    "import logging\n",
    "import time\n",
    "import torch\n",
    "import pandas as pd\n",
    "import numpy as np\n",
    "from datasets import load_dataset\n",
    "\n",
    "device = torch.device('cuda') if torch.cuda.is_available() else torch.device('cpu')\n",
    "print(f\"CUDA available is '{torch.cuda.is_available()}' --> device={device}\")"
   ]
  },
  {
   "cell_type": "code",
   "execution_count": 2,
   "metadata": {},
   "outputs": [
    {
     "name": "stdout",
     "output_type": "stream",
     "text": [
      "* train-data (list-of-list):\n",
      "['@xandraaa5 @amayaallyn6 shut up hashtags are cool #offended', 0.562]\n",
      "['it makes me so fucking irate jesus. nobody is calling ppl who like hajime abusive stop with the strawmen lmao', 0.75]\n",
      "['Lol Adam the Bull with his fake outrage...', 0.417]\n",
      "[\"@THATSSHAWTYLO passed away early this morning in a fast and furious styled car crash as he was leaving an ATL strip club. That's rough stuff\", 0.354]\n",
      "['@Kristiann1125 lol wow i was gonna say really?! haha have you seen chris or nah? you dont even snap me anymore dude!', 0.438]\n",
      "\n",
      "\n",
      "* DataFrame (train):\n",
      "                                                   text  labels\n",
      "1334  It's the most magical time of the year......Xm...   0.429\n",
      "1445  @luxbet Did you even give out any pizzas ? Ser...   0.400\n",
      "57    @NJDDanin123 I personally liked #relentless …d...   0.354\n",
      "528   @LaraTheIrish &lt; feel everything. She would ...   0.479\n",
      "1257                         Literally fuming fuck sake   0.860\n",
      "\n",
      "\n",
      "* test-data (list-of-list):\n",
      "[\"@PageShhh1 I know you mean well but I'm offended. Prick.\", 0.734]\n",
      "['Let go of resentment, it will hold you back, do not worry about what could of been, what is to come is what matters.', 0.422]\n",
      "[\"No, I'm not 'depressed because of the weather,' I'm depressed because I have #depression #sicknotweak\", 0.663]\n",
      "['#AmarnathTerrorAttack  Muslims are killing everywhere Syria Iraq Palestine Everyday beyond They say that Islam is terrorism shame on you', 0.703]\n",
      "[\"Prepare to suffer the sting of Ghost Rider's power! Prepare to know the true meaning of hell!\", 0.719]\n",
      "\n",
      "\n",
      "* DataFrame (test):\n",
      "                                                  text  labels\n",
      "244  .@PayPal  why do you always make it so incredi...   0.766\n",
      "779  Humble yourself in the sight of the LORD. If w...   0.144\n",
      "702  Traffic delays continue around Broadway #Trefo...   0.500\n",
      "926  Good to see India indignant about Amarnath Yat...   0.531\n",
      "150  all this anger is making me tored and there's ...   0.937\n",
      "\n",
      "\n"
     ]
    }
   ],
   "source": [
    "# load and preprocess data as pandas.DataFrame\n",
    "\n",
    "def load_dataframe(key=\"train\"):\n",
    "    assert key in [\"train\", \"test\"]\n",
    "    if key == \"train\": fname = \"EI-reg-En-anger-train.txt\"\n",
    "    else: fname = \"2018-EI-reg-En-anger-test-gold.txt\"\n",
    "    with open(fname, encoding=\"utf-8\") as f:\n",
    "        train_text = f.read()\n",
    "    train_txt = train_text.split(\"\\n\")\n",
    "    data = []\n",
    "    for line in train_txt[1:-1]:\n",
    "        cols = line.split(\"\\t\")\n",
    "        data.append([cols[1], float(cols[3])])\n",
    "    print(f\"* {key}-data (list-of-list):\")\n",
    "    [print(x) for x in data[:5]]\n",
    "    print(\"\\n\")\n",
    "    print(f\"* DataFrame ({key}):\")\n",
    "    df = pd.DataFrame(data)\n",
    "    df.columns = [\"text\", \"labels\"]\n",
    "    print(df.sample(5))\n",
    "    print(\"\\n\")\n",
    "    return df\n",
    "\n",
    "    \n",
    "train_df = load_dataframe(\"train\")\n",
    "test_df = load_dataframe(\"test\")"
   ]
  },
  {
   "cell_type": "markdown",
   "metadata": {
    "id": "rgCiYhBM7MHx"
   },
   "source": [
    "## Setup model architecture"
   ]
  },
  {
   "cell_type": "code",
   "execution_count": 3,
   "metadata": {},
   "outputs": [
    {
     "name": "stderr",
     "output_type": "stream",
     "text": [
      "Some weights of BertForSequenceClassification were not initialized from the model checkpoint at bert-base-uncased and are newly initialized: ['classifier.bias', 'classifier.weight']\n",
      "You should probably TRAIN this model on a down-stream task to be able to use it for predictions and inference.\n"
     ]
    }
   ],
   "source": [
    "# setup regression transformer model (BERT)\n",
    "\n",
    "def get_reg_transformer(epochs=20):\n",
    "    model_args = ClassificationArgs()\n",
    "    model_args.num_train_epochs = epochs\n",
    "    model_args.regression = True\n",
    "    model_args.device = device\n",
    "    model_args.train_batch_size = 32\n",
    "    model_args.eval_batch_size = model_args.train_batch_size\n",
    "    model_args.learning_rate = 4e-5\n",
    "    model = ClassificationModel(\n",
    "        \"bert\",\n",
    "        \"bert-base-uncased\",\n",
    "        num_labels=1,\n",
    "        args=model_args\n",
    "    )\n",
    "    return model\n",
    "\n",
    "model = get_reg_transformer()\n"
   ]
  },
  {
   "cell_type": "markdown",
   "metadata": {
    "id": "rgCiYhBM7MHx"
   },
   "source": [
    "## Train model and evaluate test-set (PearsonR)"
   ]
  },
  {
   "cell_type": "code",
   "execution_count": 4,
   "metadata": {},
   "outputs": [
    {
     "data": {
      "application/vnd.jupyter.widget-view+json": {
       "model_id": "d3ba667e7b6f4e2ca3e7920871805662",
       "version_major": 2,
       "version_minor": 0
      },
      "text/plain": [
       "  0%|          | 0/1701 [00:00<?, ?it/s]"
      ]
     },
     "metadata": {},
     "output_type": "display_data"
    },
    {
     "data": {
      "application/vnd.jupyter.widget-view+json": {
       "model_id": "dbae1fd1ce814b7d917dbf24ab49b826",
       "version_major": 2,
       "version_minor": 0
      },
      "text/plain": [
       "Epoch:   0%|          | 0/20 [00:00<?, ?it/s]"
      ]
     },
     "metadata": {},
     "output_type": "display_data"
    },
    {
     "data": {
      "application/vnd.jupyter.widget-view+json": {
       "model_id": "a7fc33a69e2c40669b56464438d483f0",
       "version_major": 2,
       "version_minor": 0
      },
      "text/plain": [
       "Running Epoch 0 of 20:   0%|          | 0/54 [00:00<?, ?it/s]"
      ]
     },
     "metadata": {},
     "output_type": "display_data"
    },
    {
     "data": {
      "application/vnd.jupyter.widget-view+json": {
       "model_id": "c84d34e4bb104b06aaec5bf63f5bdeed",
       "version_major": 2,
       "version_minor": 0
      },
      "text/plain": [
       "Running Epoch 1 of 20:   0%|          | 0/54 [00:00<?, ?it/s]"
      ]
     },
     "metadata": {},
     "output_type": "display_data"
    },
    {
     "data": {
      "application/vnd.jupyter.widget-view+json": {
       "model_id": "b75f0920304d4f1a80bca42c4df3ee91",
       "version_major": 2,
       "version_minor": 0
      },
      "text/plain": [
       "Running Epoch 2 of 20:   0%|          | 0/54 [00:00<?, ?it/s]"
      ]
     },
     "metadata": {},
     "output_type": "display_data"
    },
    {
     "data": {
      "application/vnd.jupyter.widget-view+json": {
       "model_id": "69cb6963ec874002a0f45ec9148bcbe9",
       "version_major": 2,
       "version_minor": 0
      },
      "text/plain": [
       "Running Epoch 3 of 20:   0%|          | 0/54 [00:00<?, ?it/s]"
      ]
     },
     "metadata": {},
     "output_type": "display_data"
    },
    {
     "data": {
      "application/vnd.jupyter.widget-view+json": {
       "model_id": "bcdd83c5480745ecbffb8c70a1514172",
       "version_major": 2,
       "version_minor": 0
      },
      "text/plain": [
       "Running Epoch 4 of 20:   0%|          | 0/54 [00:00<?, ?it/s]"
      ]
     },
     "metadata": {},
     "output_type": "display_data"
    },
    {
     "data": {
      "application/vnd.jupyter.widget-view+json": {
       "model_id": "ebbe779df2af4a3a8aacd36e9229eb31",
       "version_major": 2,
       "version_minor": 0
      },
      "text/plain": [
       "Running Epoch 5 of 20:   0%|          | 0/54 [00:00<?, ?it/s]"
      ]
     },
     "metadata": {},
     "output_type": "display_data"
    },
    {
     "data": {
      "application/vnd.jupyter.widget-view+json": {
       "model_id": "e380afc6a3094c698e63df63e47c3e81",
       "version_major": 2,
       "version_minor": 0
      },
      "text/plain": [
       "Running Epoch 6 of 20:   0%|          | 0/54 [00:00<?, ?it/s]"
      ]
     },
     "metadata": {},
     "output_type": "display_data"
    },
    {
     "data": {
      "application/vnd.jupyter.widget-view+json": {
       "model_id": "cdf53810236d483eaa5e75cb4e6b281d",
       "version_major": 2,
       "version_minor": 0
      },
      "text/plain": [
       "Running Epoch 7 of 20:   0%|          | 0/54 [00:00<?, ?it/s]"
      ]
     },
     "metadata": {},
     "output_type": "display_data"
    },
    {
     "data": {
      "application/vnd.jupyter.widget-view+json": {
       "model_id": "bdae1b5c07af4edf993c3c0969caa591",
       "version_major": 2,
       "version_minor": 0
      },
      "text/plain": [
       "Running Epoch 8 of 20:   0%|          | 0/54 [00:00<?, ?it/s]"
      ]
     },
     "metadata": {},
     "output_type": "display_data"
    },
    {
     "data": {
      "application/vnd.jupyter.widget-view+json": {
       "model_id": "c3a0aaf856244ee39bf711fab3a9923f",
       "version_major": 2,
       "version_minor": 0
      },
      "text/plain": [
       "Running Epoch 9 of 20:   0%|          | 0/54 [00:00<?, ?it/s]"
      ]
     },
     "metadata": {},
     "output_type": "display_data"
    },
    {
     "data": {
      "application/vnd.jupyter.widget-view+json": {
       "model_id": "aa98fb29614142d99d7119fa152e734c",
       "version_major": 2,
       "version_minor": 0
      },
      "text/plain": [
       "Running Epoch 10 of 20:   0%|          | 0/54 [00:00<?, ?it/s]"
      ]
     },
     "metadata": {},
     "output_type": "display_data"
    },
    {
     "data": {
      "application/vnd.jupyter.widget-view+json": {
       "model_id": "505c4802401642d082180a904b0ebe75",
       "version_major": 2,
       "version_minor": 0
      },
      "text/plain": [
       "Running Epoch 11 of 20:   0%|          | 0/54 [00:00<?, ?it/s]"
      ]
     },
     "metadata": {},
     "output_type": "display_data"
    },
    {
     "data": {
      "application/vnd.jupyter.widget-view+json": {
       "model_id": "30e312faf1534723a762ce5ca5a292ed",
       "version_major": 2,
       "version_minor": 0
      },
      "text/plain": [
       "Running Epoch 12 of 20:   0%|          | 0/54 [00:00<?, ?it/s]"
      ]
     },
     "metadata": {},
     "output_type": "display_data"
    },
    {
     "data": {
      "application/vnd.jupyter.widget-view+json": {
       "model_id": "da4577525c944872a350fa9506f6d6b0",
       "version_major": 2,
       "version_minor": 0
      },
      "text/plain": [
       "Running Epoch 13 of 20:   0%|          | 0/54 [00:00<?, ?it/s]"
      ]
     },
     "metadata": {},
     "output_type": "display_data"
    },
    {
     "data": {
      "application/vnd.jupyter.widget-view+json": {
       "model_id": "733ad5dffb6340ec890173db067bc051",
       "version_major": 2,
       "version_minor": 0
      },
      "text/plain": [
       "Running Epoch 14 of 20:   0%|          | 0/54 [00:00<?, ?it/s]"
      ]
     },
     "metadata": {},
     "output_type": "display_data"
    },
    {
     "data": {
      "application/vnd.jupyter.widget-view+json": {
       "model_id": "3da140589d60447394ad0366d9b6daa2",
       "version_major": 2,
       "version_minor": 0
      },
      "text/plain": [
       "Running Epoch 15 of 20:   0%|          | 0/54 [00:00<?, ?it/s]"
      ]
     },
     "metadata": {},
     "output_type": "display_data"
    },
    {
     "data": {
      "application/vnd.jupyter.widget-view+json": {
       "model_id": "9193a900140b40708eb9eeaf227a7e7b",
       "version_major": 2,
       "version_minor": 0
      },
      "text/plain": [
       "Running Epoch 16 of 20:   0%|          | 0/54 [00:00<?, ?it/s]"
      ]
     },
     "metadata": {},
     "output_type": "display_data"
    },
    {
     "data": {
      "application/vnd.jupyter.widget-view+json": {
       "model_id": "7aa63e02e9064496ba13a87496f350d4",
       "version_major": 2,
       "version_minor": 0
      },
      "text/plain": [
       "Running Epoch 17 of 20:   0%|          | 0/54 [00:00<?, ?it/s]"
      ]
     },
     "metadata": {},
     "output_type": "display_data"
    },
    {
     "data": {
      "application/vnd.jupyter.widget-view+json": {
       "model_id": "ae148cd960644579954c231d23e21849",
       "version_major": 2,
       "version_minor": 0
      },
      "text/plain": [
       "Running Epoch 18 of 20:   0%|          | 0/54 [00:00<?, ?it/s]"
      ]
     },
     "metadata": {},
     "output_type": "display_data"
    },
    {
     "data": {
      "application/vnd.jupyter.widget-view+json": {
       "model_id": "18f91d1595e14db3a382aeba0ca8e76b",
       "version_major": 2,
       "version_minor": 0
      },
      "text/plain": [
       "Running Epoch 19 of 20:   0%|          | 0/54 [00:00<?, ?it/s]"
      ]
     },
     "metadata": {},
     "output_type": "display_data"
    },
    {
     "data": {
      "text/plain": [
       "(1080, 0.008126266685199139)"
      ]
     },
     "execution_count": 4,
     "metadata": {},
     "output_type": "execute_result"
    }
   ],
   "source": [
    "# train regression model\n",
    "model.train_model(train_df)"
   ]
  },
  {
   "cell_type": "code",
   "execution_count": 5,
   "metadata": {
    "tags": []
   },
   "outputs": [
    {
     "data": {
      "application/vnd.jupyter.widget-view+json": {
       "model_id": "87d86cf1ad7d468889bf4ebb4029fe9f",
       "version_major": 2,
       "version_minor": 0
      },
      "text/plain": [
       "  0%|          | 0/1701 [00:00<?, ?it/s]"
      ]
     },
     "metadata": {},
     "output_type": "display_data"
    },
    {
     "data": {
      "application/vnd.jupyter.widget-view+json": {
       "model_id": "b1e6f59e23d74fd38c6febcdca6d24f5",
       "version_major": 2,
       "version_minor": 0
      },
      "text/plain": [
       "  0%|          | 0/54 [00:00<?, ?it/s]"
      ]
     },
     "metadata": {},
     "output_type": "display_data"
    },
    {
     "name": "stdout",
     "output_type": "stream",
     "text": [
      "* Pearson Correlation on entire test-set: 98.92%\n"
     ]
    }
   ],
   "source": [
    "# evaluate model on train-set (to optimize hyperparameters)\n",
    "import scipy\n",
    "def evaluate_pearsonR(key=\"train\", train=train_df, test=test_df):\n",
    "    assert key in [\"train\", \"test\"]\n",
    "    if key == \"train\": df = train\n",
    "    else: df = test\n",
    "    x = list(df[\"text\"])\n",
    "    y = list(df[\"labels\"])\n",
    "    predictions, _ = model.predict(x)\n",
    "    pearsonR = scipy.stats.pearsonr(predictions, y)\n",
    "    print(f\"* Pearson Correlation on entire test-set: {round(100 * pearsonR.statistic, 2)}%\")\n",
    "    \n",
    "evaluate_pearsonR(\"train\")"
   ]
  },
  {
   "cell_type": "code",
   "execution_count": 6,
   "metadata": {},
   "outputs": [
    {
     "data": {
      "application/vnd.jupyter.widget-view+json": {
       "model_id": "98187d9048d94a7abfc016d1078a09f6",
       "version_major": 2,
       "version_minor": 0
      },
      "text/plain": [
       "  0%|          | 0/1002 [00:00<?, ?it/s]"
      ]
     },
     "metadata": {},
     "output_type": "display_data"
    },
    {
     "data": {
      "application/vnd.jupyter.widget-view+json": {
       "model_id": "2ac405292b3c49d8a1b6f3b0846f34c4",
       "version_major": 2,
       "version_minor": 0
      },
      "text/plain": [
       "  0%|          | 0/32 [00:00<?, ?it/s]"
      ]
     },
     "metadata": {},
     "output_type": "display_data"
    },
    {
     "name": "stdout",
     "output_type": "stream",
     "text": [
      "* Pearson Correlation on entire test-set: 73.61%\n"
     ]
    }
   ],
   "source": [
    "# evaluate on test-set (not used for optimization of hyperparameters)\n",
    "evaluate_pearsonR(\"test\")"
   ]
  },
  {
   "cell_type": "code",
   "execution_count": null,
   "metadata": {},
   "outputs": [],
   "source": []
  }
 ],
 "metadata": {
  "accelerator": "GPU",
  "colab": {
   "provenance": []
  },
  "kernelspec": {
   "display_name": "cuda_conda",
   "language": "python",
   "name": "cuda_conda"
  },
  "language_info": {
   "codemirror_mode": {
    "name": "ipython",
    "version": 3
   },
   "file_extension": ".py",
   "mimetype": "text/x-python",
   "name": "python",
   "nbconvert_exporter": "python",
   "pygments_lexer": "ipython3",
   "version": "3.11.5"
  }
 },
 "nbformat": 4,
 "nbformat_minor": 4
}
