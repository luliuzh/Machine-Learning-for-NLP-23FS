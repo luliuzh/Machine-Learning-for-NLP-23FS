{
  "nbformat": 4,
  "nbformat_minor": 0,
  "metadata": {
    "kernelspec": {
      "display_name": "Python 3",
      "name": "python3"
    },
    "language_info": {
      "codemirror_mode": {
        "name": "ipython",
        "version": 3
      },
      "file_extension": ".py",
      "mimetype": "text/x-python",
      "name": "python",
      "nbconvert_exporter": "python",
      "pygments_lexer": "ipython3",
      "version": "3.6.6"
    },
    "colab": {
      "provenance": [],
      "gpuType": "T4"
    },
    "accelerator": "GPU"
  },
  "cells": [
    {
      "cell_type": "code",
      "metadata": {
        "id": "Wvrt-REqt5ez"
      },
      "source": [
        "%matplotlib inline"
      ],
      "execution_count": 1,
      "outputs": []
    },
    {
      "cell_type": "markdown",
      "metadata": {
        "id": "rMv2k-eFt5e5"
      },
      "source": [
        "Source: [https://pytorch.org/tutorials/beginner/nlp/word_embeddings_tutorial.html#exercise-computing-word-embeddings-continuous-bag-of-words](https://pytorch.org/tutorials/beginner/nlp/word_embeddings_tutorial.html#exercise-computing-word-embeddings-continuous-bag-of-words)\n",
        "\n",
        "# Word Embeddings: Encoding Lexical Semantics\n",
        "\n",
        "Word embeddings are dense vectors of real numbers, one per word in your\n",
        "vocabulary. In NLP, it is almost always the case that your features are\n",
        "words! But how should you represent a word in a computer? You could\n",
        "store its ascii character representation, but that only tells you what\n",
        "the word *is*, it doesn't say much about what it *means* (you might be\n",
        "able to derive its part of speech from its affixes, or properties from\n",
        "its capitalization, but not much). Even more, in what sense could you\n",
        "combine these representations? We often want dense outputs from our\n",
        "neural networks, where the inputs are $|V|$ dimensional, where\n",
        "$V$ is our vocabulary, but often the outputs are only a few\n",
        "dimensional (if we are only predicting a handful of labels, for\n",
        "instance). How do we get from a massive dimensional space to a smaller\n",
        "dimensional space?\n",
        "\n",
        "How about instead of ascii representations, we use a one-hot encoding?\n",
        "That is, we represent the word $w$ by\n",
        "\n",
        "\\begin{align}\\overbrace{\\left[ 0, 0, \\dots, 1, \\dots, 0, 0 \\right]}^\\text{|V| elements}\\end{align}\n",
        "\n",
        "where the 1 is in a location unique to $w$. Any other word will\n",
        "have a 1 in some other location, and a 0 everywhere else.\n",
        "\n",
        "There is an enormous drawback to this representation, besides just how\n",
        "huge it is. It basically treats all words as independent entities with\n",
        "no relation to each other. What we really want is some notion of\n",
        "*similarity* between words. Why? Let's see an example.\n",
        "\n",
        "Suppose we are building a language model. Suppose we have seen the\n",
        "sentences\n",
        "\n",
        "* The mathematician ran to the store.\n",
        "* The physicist ran to the store.\n",
        "* The mathematician solved the open problem.\n",
        "\n",
        "in our training data. Now suppose we get a new sentence never before\n",
        "seen in our training data:\n",
        "\n",
        "* The physicist solved the open problem.\n",
        "\n",
        "Our language model might do OK on this sentence, but wouldn't it be much\n",
        "better if we could use the following two facts:\n",
        "\n",
        "* We have seen  mathematician and physicist in the same role in a sentence. Somehow they\n",
        "  have a semantic relation.\n",
        "* We have seen mathematician in the same role  in this new unseen sentence\n",
        "  as we are now seeing physicist.\n",
        "\n",
        "and then infer that physicist is actually a good fit in the new unseen\n",
        "sentence? This is what we mean by a notion of similarity: we mean\n",
        "*semantic similarity*, not simply having similar orthographic\n",
        "representations. It is a technique to combat the sparsity of linguistic\n",
        "data, by connecting the dots between what we have seen and what we\n",
        "haven't. This example of course relies on a fundamental linguistic\n",
        "assumption: that words appearing in similar contexts are related to each\n",
        "other semantically. This is called the `distributional\n",
        "hypothesis <https://en.wikipedia.org/wiki/Distributional_semantics>`__.\n",
        "\n",
        "\n",
        "# Getting Dense Word Embeddings\n",
        "\n",
        "How can we solve this problem? That is, how could we actually encode\n",
        "semantic similarity in words? Maybe we think up some semantic\n",
        "attributes. For example, we see that both mathematicians and physicists\n",
        "can run, so maybe we give these words a high score for the \"is able to\n",
        "run\" semantic attribute. Think of some other attributes, and imagine\n",
        "what you might score some common words on those attributes.\n",
        "\n",
        "If each attribute is a dimension, then we might give each word a vector,\n",
        "like this:\n",
        "\n",
        "\\begin{align}q_\\text{mathematician} = \\left[ \\overbrace{2.3}^\\text{can run},\n",
        "   \\overbrace{9.4}^\\text{likes coffee}, \\overbrace{-5.5}^\\text{majored in Physics}, \\dots \\right]\\end{align}\n",
        "\n",
        "\\begin{align}q_\\text{physicist} = \\left[ \\overbrace{2.5}^\\text{can run},\n",
        "   \\overbrace{9.1}^\\text{likes coffee}, \\overbrace{6.4}^\\text{majored in Physics}, \\dots \\right]\\end{align}\n",
        "\n",
        "Then we can get a measure of similarity between these words by doing:\n",
        "\n",
        "\\begin{align}\\text{Similarity}(\\text{physicist}, \\text{mathematician}) = q_\\text{physicist} \\cdot q_\\text{mathematician}\\end{align}\n",
        "\n",
        "Although it is more common to normalize by the lengths:\n",
        "\n",
        "\\begin{align}\\text{Similarity}(\\text{physicist}, \\text{mathematician}) = \\frac{q_\\text{physicist} \\cdot q_\\text{mathematician}}\n",
        "   {\\| q_\\text{\\physicist} \\| \\| q_\\text{mathematician} \\|} = \\cos (\\phi)\\end{align}\n",
        "\n",
        "Where $\\phi$ is the angle between the two vectors. That way,\n",
        "extremely similar words (words whose embeddings point in the same\n",
        "direction) will have similarity 1. Extremely dissimilar words should\n",
        "have similarity -1.\n",
        "\n",
        "\n",
        "You can think of the sparse one-hot vectors from the beginning of this\n",
        "section as a special case of these new vectors we have defined, where\n",
        "each word basically has similarity 0, and we gave each word some unique\n",
        "semantic attribute. These new vectors are *dense*, which is to say their\n",
        "entries are (typically) non-zero.\n",
        "\n",
        "But these new vectors are a big pain: you could think of thousands of\n",
        "different semantic attributes that might be relevant to determining\n",
        "similarity, and how on earth would you set the values of the different\n",
        "attributes? Central to the idea of deep learning is that the neural\n",
        "network learns representations of the features, rather than requiring\n",
        "the programmer to design them herself. So why not just let the word\n",
        "embeddings be parameters in our model, and then be updated during\n",
        "training? This is exactly what we will do. We will have some *latent\n",
        "semantic attributes* that the network can, in principle, learn. Note\n",
        "that the word embeddings will probably not be interpretable. That is,\n",
        "although with our hand-crafted vectors above we can see that\n",
        "mathematicians and physicists are similar in that they both like coffee,\n",
        "if we allow a neural network to learn the embeddings and see that both\n",
        "mathematicians and physicists have a large value in the second\n",
        "dimension, it is not clear what that means. They are similar in some\n",
        "latent semantic dimension, but this probably has no interpretation to\n",
        "us.\n",
        "\n",
        "\n",
        "In summary, **word embeddings are a representation of the *semantics* of\n",
        "a word, efficiently encoding semantic information that might be relevant\n",
        "to the task at hand**. You can embed other things too: part of speech\n",
        "tags, parse trees, anything! The idea of feature embeddings is central\n",
        "to the field.\n",
        "\n",
        "\n",
        "# Word Embeddings in Pytorch\n",
        "\n",
        "Before we get to a worked example and an exercise, a few quick notes\n",
        "about how to use embeddings in Pytorch and in deep learning programming\n",
        "in general. Similar to how we defined a unique index for each word when\n",
        "making one-hot vectors, we also need to define an index for each word\n",
        "when using embeddings. These will be keys into a lookup table. That is,\n",
        "embeddings are stored as a $|V| \\times D$ matrix, where $D$\n",
        "is the dimensionality of the embeddings, such that the word assigned\n",
        "index $i$ has its embedding stored in the $i$'th row of the\n",
        "matrix. In all of my code, the mapping from words to indices is a\n",
        "dictionary named word\\_to\\_ix.\n",
        "\n",
        "The module that allows you to use embeddings is torch.nn.Embedding,\n",
        "which takes two arguments: the vocabulary size, and the dimensionality\n",
        "of the embeddings.\n",
        "\n",
        "To index into this table, you must use torch.LongTensor (since the\n",
        "indices are integers, not floats).\n",
        "\n",
        "\n"
      ]
    },
    {
      "cell_type": "code",
      "metadata": {
        "id": "ELBc1ntbt5e8",
        "colab": {
          "base_uri": "https://localhost:8080/"
        },
        "outputId": "1b784194-5698-4e8d-9e07-562de2d5db0d"
      },
      "source": [
        "# Author: Robert Guthrie\n",
        "\n",
        "import torch\n",
        "import torch.nn as nn\n",
        "import torch.nn.functional as F\n",
        "import torch.optim as optim\n",
        "\n",
        "torch.manual_seed(1)"
      ],
      "execution_count": 2,
      "outputs": [
        {
          "output_type": "execute_result",
          "data": {
            "text/plain": [
              "<torch._C.Generator at 0x7fa4ee83fe90>"
            ]
          },
          "metadata": {},
          "execution_count": 2
        }
      ]
    },
    {
      "cell_type": "code",
      "metadata": {
        "id": "qcvzqik4t5e9",
        "colab": {
          "base_uri": "https://localhost:8080/"
        },
        "outputId": "4b3a7dc3-e9b6-4eb1-fc34-446ff1279f30"
      },
      "source": [
        "word_to_ix = {\"hello\": 0, \"world\": 1}\n",
        "embeds = nn.Embedding(2, 5)  # 2 words in vocab, 5 dimensional embeddings\n",
        "lookup_tensor = torch.tensor([word_to_ix[\"hello\"]], dtype=torch.long)\n",
        "hello_embed = embeds(lookup_tensor)\n",
        "print(hello_embed)"
      ],
      "execution_count": 3,
      "outputs": [
        {
          "output_type": "stream",
          "name": "stdout",
          "text": [
            "tensor([[ 0.6614,  0.2669,  0.0617,  0.6213, -0.4519]],\n",
            "       grad_fn=<EmbeddingBackward0>)\n"
          ]
        }
      ]
    },
    {
      "cell_type": "markdown",
      "metadata": {
        "id": "es54fI4yt5e-"
      },
      "source": [
        "# An Example: N-Gram Language Modeling\n",
        "\n",
        "Recall that in an n-gram language model, given a sequence of words\n",
        "$w$, we want to compute\n",
        "\n",
        "\\begin{align}P(w_i | w_{i-1}, w_{i-2}, \\dots, w_{i-n+1} )\\end{align}\n",
        "\n",
        "Where $w_i$ is the ith word of the sequence.\n",
        "\n",
        "In this example, we will compute the loss function on some training\n",
        "examples and update the parameters with backpropagation.\n",
        "\n",
        "\n"
      ]
    },
    {
      "cell_type": "code",
      "metadata": {
        "id": "WKEd73J5t5e_",
        "colab": {
          "base_uri": "https://localhost:8080/"
        },
        "outputId": "5d044c26-8e90-4c58-c1af-23129dbba165"
      },
      "source": [
        "CONTEXT_SIZE = 2\n",
        "EMBEDDING_DIM = 10\n",
        "# We will use Shakespeare Sonnet 2\n",
        "test_sentence = \"\"\"When forty winters shall besiege thy brow,\n",
        "And dig deep trenches in thy beauty's field,\n",
        "Thy youth's proud livery so gazed on now,\n",
        "Will be a totter'd weed of small worth held:\n",
        "Then being asked, where all thy beauty lies,\n",
        "Where all the treasure of thy lusty days;\n",
        "To say, within thine own deep sunken eyes,\n",
        "Were an all-eating shame, and thriftless praise.\n",
        "How much more praise deserv'd thy beauty's use,\n",
        "If thou couldst answer 'This fair child of mine\n",
        "Shall sum my count, and make my old excuse,'\n",
        "Proving his beauty by succession thine!\n",
        "This were to be new made when thou art old,\n",
        "And see thy blood warm when thou feel'st it cold.\"\"\".split()\n",
        "# we should tokenize the input, but we will ignore that for now\n",
        "# build a list of tuples.  Each tuple is ([ word_i-2, word_i-1 ], target word)\n",
        "trigrams = [([test_sentence[i], test_sentence[i + 1]], test_sentence[i + 2])\n",
        "            for i in range(len(test_sentence) - 2)]\n",
        "# print the first 3, just so you can see what they look like\n",
        "print(trigrams[:3])\n",
        "\n",
        "vocab = set(test_sentence)\n",
        "word_to_ix = {word: i for i, word in enumerate(vocab)}\n",
        "\n",
        "\n",
        "class NGramLanguageModeler(nn.Module):\n",
        "\n",
        "    def __init__(self, vocab_size, embedding_dim, context_size):\n",
        "        super(NGramLanguageModeler, self).__init__()\n",
        "        self.embeddings = nn.Embedding(vocab_size, embedding_dim)\n",
        "        self.linear1 = nn.Linear(context_size * embedding_dim, 128)\n",
        "        self.linear2 = nn.Linear(128, vocab_size)\n",
        "\n",
        "    def forward(self, inputs):\n",
        "        embeds = self.embeddings(inputs).view((1, -1))\n",
        "        out = F.relu(self.linear1(embeds))\n",
        "        out = self.linear2(out)\n",
        "        log_probs = F.log_softmax(out, dim=1)\n",
        "        return log_probs\n",
        "\n",
        "\n",
        "losses = []\n",
        "loss_function = nn.NLLLoss()\n",
        "model = NGramLanguageModeler(len(vocab), EMBEDDING_DIM, CONTEXT_SIZE)\n",
        "optimizer = optim.SGD(model.parameters(), lr=0.001)\n",
        "\n",
        "for epoch in range(10):\n",
        "    total_loss = 0\n",
        "    for context, target in trigrams:\n",
        "\n",
        "        # Step 1. Prepare the inputs to be passed to the model (i.e, turn the words\n",
        "        # into integer indices and wrap them in tensors)\n",
        "        context_idxs = torch.tensor([word_to_ix[w] for w in context], dtype=torch.long)\n",
        "\n",
        "        # Step 2. Recall that torch *accumulates* gradients. Before passing in a\n",
        "        # new instance, you need to zero out the gradients from the old\n",
        "        # instance\n",
        "        model.zero_grad()\n",
        "\n",
        "        # Step 3. Run the forward pass, getting log probabilities over next\n",
        "        # words\n",
        "        log_probs = model(context_idxs)\n",
        "\n",
        "        # Step 4. Compute your loss function. (Again, Torch wants the target\n",
        "        # word wrapped in a tensor)\n",
        "        loss = loss_function(log_probs, torch.tensor([word_to_ix[target]], dtype=torch.long))\n",
        "\n",
        "        # Step 5. Do the backward pass and update the gradient\n",
        "        loss.backward()\n",
        "        optimizer.step()\n",
        "\n",
        "        # Get the Python number from a 1-element Tensor by calling tensor.item()\n",
        "        total_loss += loss.item()\n",
        "    losses.append(total_loss)\n",
        "print(losses)  # The loss decreased every iteration over the training data!"
      ],
      "execution_count": 4,
      "outputs": [
        {
          "output_type": "stream",
          "name": "stdout",
          "text": [
            "[(['When', 'forty'], 'winters'), (['forty', 'winters'], 'shall'), (['winters', 'shall'], 'besiege')]\n",
            "[519.1247088909149, 516.5994164943695, 514.0900070667267, 511.59886717796326, 509.1251769065857, 506.6661686897278, 504.2211420536041, 501.7876298427582, 499.365535736084, 496.95503854751587]\n"
          ]
        }
      ]
    },
    {
      "cell_type": "markdown",
      "metadata": {
        "id": "lO-_4P3mt5e_"
      },
      "source": [
        "# Exercise: Computing Word Embeddings: Continuous Bag-of-Words\n",
        "\n",
        "The Continuous Bag-of-Words model (CBOW) is frequently used in NLP deep\n",
        "learning. It is a model that tries to predict words given the context of\n",
        "a few words before and a few words after the target word. This is\n",
        "distinct from language modeling, since CBOW is not sequential and does\n",
        "not have to be probabilistic. Typcially, CBOW is used to quickly train\n",
        "word embeddings, and these embeddings are used to initialize the\n",
        "embeddings of some more complicated model. Usually, this is referred to\n",
        "as *pretraining embeddings*. It almost always helps performance a couple\n",
        "of percent.\n",
        "\n",
        "The CBOW model is as follows. Given a target word $w_i$ and an\n",
        "$N$ context window on each side, $w_{i-1}, \\dots, w_{i-N}$\n",
        "and $w_{i+1}, \\dots, w_{i+N}$, referring to all context words\n",
        "collectively as $C$, CBOW tries to minimize\n",
        "\n",
        "\\begin{align}-\\log p(w_i | C) = -\\log \\text{Softmax}(A(\\sum_{w \\in C} q_w) + b)\\end{align}\n",
        "\n",
        "where $q_w$ is the embedding for word $w$.\n",
        "\n",
        "Implement this model in Pytorch by filling in the class below. Some\n",
        "tips:\n",
        "\n",
        "* Think about which parameters you need to define.\n",
        "* Make sure you know what shape each operation expects. Use .view() if you need to\n",
        "  reshape.\n",
        "\n",
        "\n"
      ]
    },
    {
      "cell_type": "code",
      "source": [
        "CONTEXT_SIZE = 2  # 2 words to the left, 2 to the right\n",
        "EMBEDDING_DIM = 100\n",
        "\n",
        "# reding the dataset\n",
        "raw_text = \"\"\"We are about to study the idea of a computational process.\n",
        "Computational processes are abstract beings that inhabit computers.\n",
        "As they evolve, processes manipulate other abstract things called data.\n",
        "The evolution of a process is directed by a pattern of rules\n",
        "called a program. People create programs to direct processes. In effect,\n",
        "we conjure the spirits of the computer with our spells.\"\"\".split()\n",
        "\n",
        "# By deriving a set from `raw_text`, we deduplicate the array\n",
        "vocab = set(raw_text)\n",
        "vocab_size = len(vocab)\n",
        "\n",
        "word_to_ix = {word: i for i, word in enumerate(vocab)}\n",
        "data = []\n",
        "for i in range(2, len(raw_text) - 2):\n",
        "    context = [raw_text[i - 2], raw_text[i - 1],\n",
        "               raw_text[i + 1], raw_text[i + 2]]\n",
        "    target = raw_text[i]\n",
        "    data.append((context, target))\n",
        "print(data[:5])\n",
        "\n",
        "\n",
        "class CBOW(torch.nn.Module):\n",
        "\n",
        "    def __init__(self, vocab_size, embedding_dim):\n",
        "\n",
        "        super(CBOW, self).__init__()\n",
        "\n",
        "        self.embeddings = nn.Embedding(vocab_size, embedding_dim)\n",
        "        self.linear1 = nn.Linear(embedding_dim, 128)\n",
        "        self.activation_function1 = nn.ReLU()\n",
        "\n",
        "        self.linear2 = nn.Linear(128, vocab_size)\n",
        "        self.activation_function2 = nn.LogSoftmax(dim = -1)\n",
        "\n",
        "    def forward(self, inputs):\n",
        "        embeds = sum(self.embeddings(inputs)).view(1,-1)\n",
        "        out = self.linear1(embeds)\n",
        "        out = self.activation_function1(out)\n",
        "        out = self.linear2(out)\n",
        "        out = self.activation_function2(out)\n",
        "        return out\n",
        "\n",
        "def make_context_vector(context, word_to_ix):\n",
        "    idxs = [word_to_ix[w] for w in context]\n",
        "    return torch.tensor(idxs, dtype=torch.long)\n",
        "\n",
        "model = CBOW(vocab_size, EMBEDDING_DIM)\n",
        "\n",
        "losses = []\n",
        "loss_function = nn.NLLLoss()\n",
        "optimizer = optim.SGD(model.parameters(), lr=0.001)\n",
        "\n",
        "#training the model\n",
        "for epoch in range(10):\n",
        "  total_loss = 0\n",
        "\n",
        "  for context, target in data:\n",
        "    # Step 1. Prepare the inputs to be passed to the model\n",
        "    context_vec = make_context_vector(context, word_to_ix)\n",
        "\n",
        "    # Step 2. Recall that torch *accumulates* gradients.\n",
        "    model.zero_grad()\n",
        "\n",
        "    # Step 3. Run the forward pass, getting log probabilities over next words\n",
        "    log_probs = model(context_vec)\n",
        "\n",
        "    #step 4.Compute the loss function.\n",
        "    loss = loss_function(log_probs, torch.tensor([word_to_ix[target]], dtype=torch.long))\n",
        "\n",
        "    # Step 5. Do the backward pass and update the gradient\n",
        "    loss.backward()\n",
        "    optimizer.step()\n",
        "\n",
        "    total_loss += loss.item()\n",
        "\n",
        "    # Get the Python number from a 1-element Tensor by calling tensor.item()\n",
        "    total_loss += loss.item()\n",
        "\n",
        "  losses.append(total_loss)\n",
        "\n",
        "print(losses)"
      ],
      "metadata": {
        "id": "UrgMa8LYIUB8",
        "colab": {
          "base_uri": "https://localhost:8080/"
        },
        "outputId": "45f595f7-a54a-4be9-d389-79d7441f52cd"
      },
      "execution_count": 5,
      "outputs": [
        {
          "output_type": "stream",
          "name": "stdout",
          "text": [
            "[(['We', 'are', 'to', 'study'], 'about'), (['are', 'about', 'study', 'the'], 'to'), (['about', 'to', 'the', 'idea'], 'study'), (['to', 'study', 'idea', 'of'], 'the'), (['study', 'the', 'of', 'a'], 'idea')]\n",
            "[466.3224849700928, 448.71989250183105, 432.0826778411865, 416.12587881088257, 400.73743295669556, 385.838103055954, 371.44805550575256, 357.52513909339905, 343.9932096004486, 330.7795649766922]\n"
          ]
        }
      ]
    },
    {
      "cell_type": "markdown",
      "source": [
        "# part 1 Train your CBOW embeddings for both datasets\n",
        "\n",
        "**CBOW2 with a context width of 2 (in both directions) for the Hotel Reviews dataset.**\n"
      ],
      "metadata": {
        "id": "FXf7DHPpmMzP"
      }
    },
    {
      "cell_type": "code",
      "source": [
        "!gdown 1BQOySY3HmDvVbNXLSlh59XxIvLKtjZyU\n",
        "!gdown 1Auxk1RsQgRSzAjVIeXPFwFAKIbkNrWmT"
      ],
      "metadata": {
        "colab": {
          "base_uri": "https://localhost:8080/"
        },
        "id": "ywvQrrFslEe-",
        "outputId": "0a274f3e-cb20-4a89-c616-030ed29724c2"
      },
      "execution_count": 2,
      "outputs": [
        {
          "output_type": "stream",
          "name": "stdout",
          "text": [
            "Downloading...\n",
            "From: https://drive.google.com/uc?id=1BQOySY3HmDvVbNXLSlh59XxIvLKtjZyU\n",
            "To: /content/scifi.txt\n",
            "100% 86.1M/86.1M [00:00<00:00, 108MB/s] \n",
            "Downloading...\n",
            "From: https://drive.google.com/uc?id=1Auxk1RsQgRSzAjVIeXPFwFAKIbkNrWmT\n",
            "To: /content/tripadvisor_hotel_reviews.csv\n",
            "100% 15.0M/15.0M [00:00<00:00, 121MB/s] \n"
          ]
        }
      ]
    },
    {
      "cell_type": "code",
      "source": [
        "import torch\n",
        "import torch.nn as nn\n",
        "import torch.optim as optim\n",
        "import pandas as pd\n",
        "import csv\n",
        "import string\n",
        "import re\n",
        "#import nltk"
      ],
      "metadata": {
        "id": "yWmFj0XglnFR"
      },
      "execution_count": 1,
      "outputs": []
    },
    {
      "cell_type": "code",
      "source": [
        "# define the hyperparameters\n",
        "#CBOW2 with a context width of 2 (in both directions) for the Hotel Reviews dataset.\n",
        "\n",
        "CONTEXT_SIZE = 2  # 2 words to the left, 2 to the right\n",
        "EMBEDDING_DIM = 50"
      ],
      "metadata": {
        "id": "g24ocxXGlpcK"
      },
      "execution_count": 3,
      "outputs": []
    },
    {
      "cell_type": "code",
      "source": [
        "# preprocessing the text\n",
        "def preprocess_text(text):\n",
        "    # remove special characters\n",
        "    #text = text.translate(str.maketrans('', '', string.punctuation))\n",
        "    text = re.sub(r'[^\\w\\s]', '', text)\n",
        "    # lowercasing\n",
        "    text = text.lower()\n",
        "    # tokenization\n",
        "    tokens = text.split()\n",
        "    # remove stop words\n",
        "    #stop_words = set(stopwords.words('english'))\n",
        "    #filtered_words = [word for word in words if word not in stop_words]\n",
        "    #processed_text = ' '.join(words)\n",
        "    return tokens\n",
        "\n",
        "# Reading the csv and txt file and preprocessing the text\n",
        "def read_data(file_path, is_csv=False):\n",
        "    if is_csv:\n",
        "        # reading a csv file\n",
        "        data = pd.read_csv(file_path)\n",
        "        raw_text = data['Review'].str.cat(sep=' ')\n",
        "    else:\n",
        "        # reading a txt file\n",
        "        with open(file_path, 'r') as file:\n",
        "            raw_text = file.read()\n",
        "    preprocessed_text = preprocess_text(raw_text)\n",
        "    return preprocessed_text"
      ],
      "metadata": {
        "id": "5dN0raNvlqsh"
      },
      "execution_count": 4,
      "outputs": []
    },
    {
      "cell_type": "code",
      "source": [
        "# build a vocabulary\n",
        "def build_vocab(preprocessed_text):\n",
        "    vocab = set(preprocessed_text)\n",
        "    vocab_size = len(vocab)\n",
        "    word_to_ix = {word: i for i, word in enumerate(vocab)}\n",
        "    return word_to_ix, vocab_size\n",
        "\n",
        "# creat target and context data， width of 2\n",
        "def create_data(preprocessed_text):\n",
        "    data = []\n",
        "    for i in range(2, len(preprocessed_text) - 2):\n",
        "        context = [preprocessed_text[i -2 ], preprocessed_text[i - 1], preprocessed_text[i + 1], preprocessed_text[i + 2]]\n",
        "        target = preprocessed_text[i]\n",
        "        data.append((context, target))\n",
        "    return data"
      ],
      "metadata": {
        "id": "Ugvv4WnHlvIz"
      },
      "execution_count": 5,
      "outputs": []
    },
    {
      "cell_type": "code",
      "source": [
        "CONTEXT_SIZE = 2\n",
        "\n",
        "# define the CBOW model\n",
        "class CBOW(nn.Module):\n",
        "    def __init__(self, vocab_size, embedding_dim):\n",
        "        super(CBOW, self).__init__()\n",
        "        self.embeddings = nn.Embedding(vocab_size, embedding_dim)\n",
        "        self.linear1 = nn.Linear(embedding_dim * CONTEXT_SIZE * 2, 128)\n",
        "        self.activation_function1 = nn.ReLU()\n",
        "        self.linear2 = nn.Linear(128, vocab_size)\n",
        "        self.activation_function2 = nn.LogSoftmax(dim=-1)\n",
        "\n",
        "    def forward(self, inputs):\n",
        "        embeds = self.embeddings(inputs).view(-1, EMBEDDING_DIM * CONTEXT_SIZE * 2)\n",
        "        out = self.linear1(embeds)\n",
        "        out = self.activation_function1(out)\n",
        "        out = self.linear2(out)\n",
        "        out = self.activation_function2(out)\n",
        "        return out\n",
        "\n",
        "# make context words to vectors/index\n",
        "def make_context_vector(context, word_to_ix):\n",
        "    idxs = [word_to_ix[w] for w in context]\n",
        "    return torch.tensor(idxs, dtype=torch.long)"
      ],
      "metadata": {
        "id": "WDv06XacC_17"
      },
      "execution_count": 6,
      "outputs": []
    },
    {
      "cell_type": "code",
      "metadata": {
        "id": "gXbt-utMt5fA"
      },
      "source": [
        "# reading the file\n",
        "file_path = \"tripadvisor_hotel_reviews.csv\"\n",
        "is_csv = True\n",
        "preprocessed_text = read_data(file_path, is_csv)"
      ],
      "execution_count": 7,
      "outputs": []
    },
    {
      "cell_type": "code",
      "source": [
        "# making a vocabulary\n",
        "word_to_ix, vocab_size = build_vocab(preprocessed_text)"
      ],
      "metadata": {
        "id": "e5X5s5tAl7zD"
      },
      "execution_count": 8,
      "outputs": []
    },
    {
      "cell_type": "code",
      "source": [
        "# creating context and target data\n",
        "data = create_data(preprocessed_text)"
      ],
      "metadata": {
        "id": "w6TxwCsBl85c"
      },
      "execution_count": 9,
      "outputs": []
    },
    {
      "cell_type": "code",
      "source": [
        "import nltk\n",
        "from collections import Counter\n",
        "from nltk.corpus import wordnet as wn\n",
        "\n",
        "#all_tokens = [token for review in df['tokenized_reviews'] for token in review]\n",
        "word_freq = Counter(preprocessed_text)\n",
        "\n",
        "# Sort words by frequency\n",
        "sorted_words = [word for word, freq in word_freq.most_common()]\n",
        "\n",
        "# Use nltk's part-of-speech tagger\n",
        "nltk.download('averaged_perceptron_tagger')\n",
        "tags = nltk.pos_tag(sorted_words)\n",
        "\n",
        "# Filter nouns, verbs, and adjectives\n",
        "nouns = [word for word, tag in tags if tag.startswith('NN')]\n",
        "verbs = [word for word, tag in tags if tag.startswith('VB')]\n",
        "adjectives = [word for word, tag in tags if tag.startswith('JJ')]\n",
        "\n",
        "# Select frequent and rare words\n",
        "frequent_nouns = nouns[:10]\n",
        "rare_nouns = nouns[-10:]\n",
        "\n",
        "frequent_verbs = verbs[:10]\n",
        "rare_verbs = verbs[-10:]\n",
        "\n",
        "frequent_adj = adjectives[:10]\n",
        "rare_adj = adjectives[-10:]\n",
        "\n",
        "print(f\"Frequent Nouns: {frequent_nouns}\")\n",
        "print(f\"Rare Nouns: {rare_nouns}\")\n",
        "print(f\"Frequent Verbs: {frequent_verbs}\")\n",
        "print(f\"Rare Verbs: {rare_verbs}\")\n",
        "print(f\"Frequent Adjectives: {frequent_adj}\")\n",
        "print(f\"Rare Adjectives: {rare_adj}\")"
      ],
      "metadata": {
        "colab": {
          "base_uri": "https://localhost:8080/"
        },
        "id": "uEup0idDHQSp",
        "outputId": "0caad0f6-99ea-40c5-c7c6-532bdce1566f"
      },
      "execution_count": 10,
      "outputs": [
        {
          "output_type": "stream",
          "name": "stderr",
          "text": [
            "[nltk_data] Downloading package averaged_perceptron_tagger to\n",
            "[nltk_data]     /root/nltk_data...\n",
            "[nltk_data]   Unzipping taggers/averaged_perceptron_tagger.zip.\n"
          ]
        },
        {
          "output_type": "stream",
          "name": "stdout",
          "text": [
            "Frequent Nouns: ['hotel', 'room', 'staff', 'stay', 'rooms', 'location', 'service', 'time', 'beach', 'night']\n",
            "Rare Nouns: ['documentto', 'hardline', 'opinionin', 'mossos', 'desquadra', 'undercover', 'tallers', 'muggings', 'cornerone', 'swears']\n",
            "Frequent Verbs: ['did', 'stayed', 'breakfast', 'got', 'bed', 'went', 'want', 'make', 'say', 'lobby']\n",
            "Rare Verbs: ['esteem', 'restaurantrooms', 'familiesrecommend', 'pilling', 'fingerprinted', 'indemnified', 'blackmailed', 'attests', 'barcelonins', 'joball']\n",
            "Frequent Adjectives: ['great', 'good', 'nice', 'clean', 'place', 'small', 'little', 'walk', 'excellent', 'best']\n",
            "Rare Adjectives: ['uwajimaya', 'roomcafe', 'aerate', 'uplift', 'gobcn', 'invalid', 'unbolted', 'elusive', 'evasive', 'victimizedthis']\n"
          ]
        }
      ]
    },
    {
      "cell_type": "code",
      "source": [
        "from torch.utils.data import Dataset, DataLoader\n",
        "\n",
        "class CBOWDataset(Dataset):\n",
        "    def __init__(self, data, word_to_ix):\n",
        "        self.data = data\n",
        "        self.word_to_ix = word_to_ix\n",
        "\n",
        "    def __len__(self):\n",
        "        return len(self.data)\n",
        "\n",
        "    def __getitem__(self, idx):\n",
        "        context, target = self.data[idx]\n",
        "        context_vec = make_context_vector(context, self.word_to_ix)\n",
        "        target_tensor = torch.tensor([word_to_ix[target]], dtype=torch.long)\n",
        "        return context_vec, target_tensor\n",
        "\n",
        "# Create an instance of CBOWDataset and DataLoader\n",
        "dataset = CBOWDataset(data, word_to_ix)\n",
        "dataloader = DataLoader(dataset, batch_size=64, shuffle=True)"
      ],
      "metadata": {
        "id": "D8IvqAKPCaaF"
      },
      "execution_count": 15,
      "outputs": []
    },
    {
      "cell_type": "code",
      "source": [
        "device = torch.device(\"cuda\" if torch.cuda.is_available() else \"cpu\")"
      ],
      "metadata": {
        "id": "qIIW2zTND3m7"
      },
      "execution_count": 17,
      "outputs": []
    },
    {
      "cell_type": "code",
      "source": [
        "# initialize the cbow model\n",
        "model = CBOW(vocab_size, EMBEDDING_DIM).to(device)\n",
        "\n",
        "# define the loss function and optimizer\n",
        "loss_function = nn.CrossEntropyLoss()\n",
        "optimizer = optim.Adam(model.parameters(), lr=1)\n",
        "\n",
        "print(len(data))\n",
        "\n",
        "# training the model\n",
        "for epoch in range(13):\n",
        "    total_loss = 0\n",
        "    for context_vecs, target_tensors in dataloader:\n",
        "        context_vecs, target_tensors = context_vecs.to(device), target_tensors.to(device)\n",
        "\n",
        "        model.zero_grad()\n",
        "        log_probs = model(context_vecs)\n",
        "        log_probs = log_probs.view(-1, vocab_size)\n",
        "        target_tensors = target_tensors.view(-1)\n",
        "\n",
        "        loss = loss_function(log_probs, target_tensors.view(-1))\n",
        "        loss.backward()\n",
        "        optimizer.step()\n",
        "        total_loss += loss.item()\n",
        "    print(f\"Epoch {epoch + 1}, Loss: {total_loss}\")"
      ],
      "metadata": {
        "colab": {
          "base_uri": "https://localhost:8080/"
        },
        "id": "jWJ8jUHHCfMK",
        "outputId": "7623ce37-a6f2-4589-cb31-34299c873412"
      },
      "execution_count": 18,
      "outputs": [
        {
          "output_type": "stream",
          "name": "stdout",
          "text": [
            "2138758\n",
            "Epoch 1, Loss: 7463899.343604088\n",
            "Epoch 2, Loss: 1937015.7776956558\n",
            "Epoch 3, Loss: 408139.58357048035\n",
            "Epoch 4, Loss: 565074.1239671707\n",
            "Epoch 5, Loss: 362564.73153972626\n",
            "Epoch 6, Loss: 339762.54636859894\n",
            "Epoch 7, Loss: 339722.0997514725\n",
            "Epoch 8, Loss: 339711.8210282326\n",
            "Epoch 9, Loss: 339700.80089235306\n",
            "Epoch 10, Loss: 339767.42577934265\n",
            "Epoch 11, Loss: 339736.4159064293\n",
            "Epoch 12, Loss: 339750.90731954575\n",
            "Epoch 13, Loss: 339763.3398504257\n"
          ]
        }
      ]
    },
    {
      "cell_type": "code",
      "source": [
        "# Save the model\n",
        "model_path = \"cbow_model_2.pth\"\n",
        "torch.save(model.state_dict(), model_path)"
      ],
      "metadata": {
        "id": "6ADK_V3KHGha"
      },
      "execution_count": 19,
      "outputs": []
    },
    {
      "cell_type": "markdown",
      "source": [
        "2.2 For each of the 9 chosen words, retrieve the 5 closest words according to your trained CBOW2 model. List them in your report and comment on the performance of your model: do the neighbors the model provides make sense? Discuss.\n",
        "\n",
        "nouns: staff (frequent), location (frequent); mossos (rare)\n",
        "\n",
        "verbs: stayed (frequent), got (frequent); esteemed (rare)\n",
        "\n",
        "adjective: clean (frequent), small (frequent); aerate (rare)\n"
      ],
      "metadata": {
        "id": "PBgLXxMoOTq6"
      }
    },
    {
      "cell_type": "code",
      "source": [
        "import torch.nn as nn\n",
        "\n",
        "def get_closest_word(word, topn=5):\n",
        "    word_distance = []\n",
        "    emb = model.embeddings\n",
        "    device = emb.weight.device  # Determine the device of the model\n",
        "    pdist = nn.PairwiseDistance().to(device)\n",
        "    i = word_to_ix[word]\n",
        "    lookup_tensor_i = torch.tensor([i], dtype=torch.long).to(device)  # Move tensor to the same device\n",
        "    v_i = emb(lookup_tensor_i)\n",
        "    index_to_word = {a: word for word, a in word_to_ix.items()}\n",
        "    for j in range(vocab_size):\n",
        "        if j != i:\n",
        "            lookup_tensor_j = torch.tensor([j], dtype=torch.long).to(device)  # Move tensor to the same device\n",
        "            v_j = emb(lookup_tensor_j)\n",
        "            word_distance.append((index_to_word[j], float(pdist(v_i, v_j))))\n",
        "    word_distance.sort(key=lambda x: x[1])\n",
        "    return word_distance[:topn]"
      ],
      "metadata": {
        "id": "xbopQQLNIl-I"
      },
      "execution_count": 20,
      "outputs": []
    },
    {
      "cell_type": "code",
      "source": [
        "words = {'staff', 'location', 'mossos', 'stayed', 'got', 'esteemed', 'clean', 'small', 'aerate', 'good'}\n",
        "\n",
        "for word in words:\n",
        "  closest_word = get_closest_word(word, topn=5)\n",
        "  print(f\"Words closest to {word}:{closest_word}\")"
      ],
      "metadata": {
        "colab": {
          "base_uri": "https://localhost:8080/"
        },
        "id": "KZZ1mAzAUQiz",
        "outputId": "8450b04f-1d2f-4b5c-e1de-d0ee08484215"
      },
      "execution_count": 21,
      "outputs": [
        {
          "output_type": "stream",
          "name": "stdout",
          "text": [
            "Words closest to stayed:[('desert', 141.33218383789062), ('tyrip', 146.5635223388672), ('sported', 151.49803161621094), ('shells', 152.20143127441406), ('fore', 152.7379150390625)]\n",
            "Words closest to esteemed:[('styleoverall', 6.458023548126221), ('griping', 6.484110355377197), ('wellas', 6.545387268066406), ('awrsome', 6.59826135635376), ('areasto', 6.606688022613525)]\n",
            "Words closest to aerate:[('70night', 6.395145893096924), ('spaingetting', 6.5656657218933105), ('barcelonas', 6.713163375854492), ('bedsbedding', 6.819931983947754), ('nats', 6.839423656463623)]\n",
            "Words closest to mossos:[('staffagain', 63.37111282348633), ('enterprise', 64.01919555664062), ('support', 86.26815795898438), ('reborn', 86.96928405761719), ('hayley', 87.17584991455078)]\n",
            "Words closest to got:[('elephant', 233.0531768798828), ('sandy', 242.52674865722656), ('awoke', 244.12974548339844), ('multiple', 245.31024169921875), ('brazil', 245.5233612060547)]\n",
            "Words closest to good:[('smile', 207.35301208496094), ('pants', 214.0042724609375), ('nyc', 217.1681365966797), ('moderatepriced', 217.9482421875), ('coctail', 218.1568603515625)]\n",
            "Words closest to clean:[('swamp', 173.79713439941406), ('primative', 174.4319305419922), ('luckily', 176.21200561523438), ('interests', 176.89285278320312), ('avail', 177.4058837890625)]\n",
            "Words closest to small:[('gos', 257.9639587402344), ('roomfunctioning', 258.569580078125), ('forkes', 260.04840087890625), ('punishment', 261.3691711425781), ('aprilmay', 262.86724853515625)]\n",
            "Words closest to location:[('potholed', 238.1971435546875), ('chow', 240.84059143066406), ('willing', 244.46702575683594), ('facebook', 245.83457946777344), ('ahem', 246.2502899169922)]\n",
            "Words closest to staff:[('explained', 149.47105407714844), ('angela', 184.25489807128906), ('cranky', 190.59707641601562), ('brooklyn', 199.98924255371094), ('tiki', 200.37742614746094)]\n"
          ]
        }
      ]
    }
  ]
}